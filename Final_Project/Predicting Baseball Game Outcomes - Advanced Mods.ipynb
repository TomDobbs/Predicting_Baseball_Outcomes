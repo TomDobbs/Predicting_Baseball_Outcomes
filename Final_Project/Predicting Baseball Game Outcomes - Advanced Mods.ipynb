{
 "cells": [
  {
   "cell_type": "markdown",
   "metadata": {},
   "source": [
    "# Predicting Baseball Game Outcomes"
   ]
  },
  {
   "cell_type": "markdown",
   "metadata": {},
   "source": [
    "### Load in packages"
   ]
  },
  {
   "cell_type": "code",
   "execution_count": 44,
   "metadata": {
    "collapsed": true
   },
   "outputs": [],
   "source": [
    "import pandas as pd\n",
    "import numpy as np\n",
    "import matplotlib.pyplot as plt\n",
    "import seaborn as sns\n",
    "import collections as c\n",
    "%matplotlib inline\n",
    "import itertools\n",
    "from collections import Counter\n",
    "from sklearn.cross_validation import train_test_split\n",
    "from sklearn.linear_model import LogisticRegression\n",
    "from sklearn import metrics\n",
    "logreg = LogisticRegression()"
   ]
  },
  {
   "cell_type": "markdown",
   "metadata": {},
   "source": [
    "### Data Cleaning"
   ]
  },
  {
   "cell_type": "code",
   "execution_count": 2,
   "metadata": {
    "collapsed": true
   },
   "outputs": [],
   "source": [
    "# Make sure duplicates do not exist\n",
    "with open('atbat_table.csv','r') as in_file, open('edited_atbat_table.csv','w') as out_file:\n",
    "    seen = set()\n",
    "    for line in in_file:\n",
    "        if line in seen: continue \n",
    "\n",
    "        seen.add(line)\n",
    "        out_file.write(line)\n",
    "\n",
    "with open('pitch_table.csv','r') as in_file, open('edited_pitch_table.csv','w') as out_file:\n",
    "    seen = set()\n",
    "    for line in in_file:\n",
    "        if line in seen: continue \n",
    "\n",
    "        seen.add(line)\n",
    "        out_file.write(line)"
   ]
  },
  {
   "cell_type": "code",
   "execution_count": 45,
   "metadata": {
    "collapsed": false
   },
   "outputs": [
    {
     "data": {
      "text/html": [
       "<div>\n",
       "<table border=\"1\" class=\"dataframe\">\n",
       "  <thead>\n",
       "    <tr style=\"text-align: right;\">\n",
       "      <th></th>\n",
       "      <th>retro_game_id</th>\n",
       "      <th>year</th>\n",
       "      <th>st_fl</th>\n",
       "      <th>regseason_fl</th>\n",
       "      <th>playoffs_fl</th>\n",
       "      <th>game_type</th>\n",
       "      <th>game_type_des</th>\n",
       "      <th>game_id</th>\n",
       "      <th>home_team_id</th>\n",
       "      <th>home_team_lg</th>\n",
       "      <th>...</th>\n",
       "      <th>break_y</th>\n",
       "      <th>break_angle</th>\n",
       "      <th>break_length</th>\n",
       "      <th>pitch_type</th>\n",
       "      <th>pitch_type_seq</th>\n",
       "      <th>type_conf</th>\n",
       "      <th>zone</th>\n",
       "      <th>spin_dir</th>\n",
       "      <th>spin_rate</th>\n",
       "      <th>sv_id</th>\n",
       "    </tr>\n",
       "  </thead>\n",
       "  <tbody>\n",
       "    <tr>\n",
       "      <th>0</th>\n",
       "      <td>OAK201509010</td>\n",
       "      <td>2015</td>\n",
       "      <td>F</td>\n",
       "      <td>T</td>\n",
       "      <td>F</td>\n",
       "      <td>R</td>\n",
       "      <td>Regular Season</td>\n",
       "      <td>415615</td>\n",
       "      <td>oak</td>\n",
       "      <td>AL</td>\n",
       "      <td>...</td>\n",
       "      <td>23.8</td>\n",
       "      <td>1.8</td>\n",
       "      <td>4.4</td>\n",
       "      <td>FF</td>\n",
       "      <td>FF</td>\n",
       "      <td>0.909</td>\n",
       "      <td>5</td>\n",
       "      <td>184.549</td>\n",
       "      <td>1674.376</td>\n",
       "      <td>150901_190703</td>\n",
       "    </tr>\n",
       "    <tr>\n",
       "      <th>1</th>\n",
       "      <td>OAK201509010</td>\n",
       "      <td>2015</td>\n",
       "      <td>F</td>\n",
       "      <td>T</td>\n",
       "      <td>F</td>\n",
       "      <td>R</td>\n",
       "      <td>Regular Season</td>\n",
       "      <td>415615</td>\n",
       "      <td>oak</td>\n",
       "      <td>AL</td>\n",
       "      <td>...</td>\n",
       "      <td>23.9</td>\n",
       "      <td>16.4</td>\n",
       "      <td>4.3</td>\n",
       "      <td>FF</td>\n",
       "      <td>FF</td>\n",
       "      <td>0.909</td>\n",
       "      <td>13</td>\n",
       "      <td>199.334</td>\n",
       "      <td>1930.502</td>\n",
       "      <td>150901_190744</td>\n",
       "    </tr>\n",
       "    <tr>\n",
       "      <th>2</th>\n",
       "      <td>OAK201509010</td>\n",
       "      <td>2015</td>\n",
       "      <td>F</td>\n",
       "      <td>T</td>\n",
       "      <td>F</td>\n",
       "      <td>R</td>\n",
       "      <td>Regular Season</td>\n",
       "      <td>415615</td>\n",
       "      <td>oak</td>\n",
       "      <td>AL</td>\n",
       "      <td>...</td>\n",
       "      <td>23.8</td>\n",
       "      <td>-5.0</td>\n",
       "      <td>6.2</td>\n",
       "      <td>FC</td>\n",
       "      <td>FF|FC</td>\n",
       "      <td>0.761</td>\n",
       "      <td>1</td>\n",
       "      <td>168.632</td>\n",
       "      <td>961.722</td>\n",
       "      <td>150901_190756</td>\n",
       "    </tr>\n",
       "    <tr>\n",
       "      <th>3</th>\n",
       "      <td>OAK201509010</td>\n",
       "      <td>2015</td>\n",
       "      <td>F</td>\n",
       "      <td>T</td>\n",
       "      <td>F</td>\n",
       "      <td>R</td>\n",
       "      <td>Regular Season</td>\n",
       "      <td>415615</td>\n",
       "      <td>oak</td>\n",
       "      <td>AL</td>\n",
       "      <td>...</td>\n",
       "      <td>23.9</td>\n",
       "      <td>-9.5</td>\n",
       "      <td>6.2</td>\n",
       "      <td>FC</td>\n",
       "      <td>FF|FC|FC</td>\n",
       "      <td>0.659</td>\n",
       "      <td>14</td>\n",
       "      <td>158.747</td>\n",
       "      <td>1026.539</td>\n",
       "      <td>150901_190820</td>\n",
       "    </tr>\n",
       "  </tbody>\n",
       "</table>\n",
       "<p>4 rows × 64 columns</p>\n",
       "</div>"
      ],
      "text/plain": [
       "  retro_game_id  year st_fl regseason_fl playoffs_fl game_type  \\\n",
       "0  OAK201509010  2015     F            T           F         R   \n",
       "1  OAK201509010  2015     F            T           F         R   \n",
       "2  OAK201509010  2015     F            T           F         R   \n",
       "3  OAK201509010  2015     F            T           F         R   \n",
       "\n",
       "    game_type_des  game_id home_team_id home_team_lg      ...       break_y  \\\n",
       "0  Regular Season   415615          oak           AL      ...          23.8   \n",
       "1  Regular Season   415615          oak           AL      ...          23.9   \n",
       "2  Regular Season   415615          oak           AL      ...          23.8   \n",
       "3  Regular Season   415615          oak           AL      ...          23.9   \n",
       "\n",
       "  break_angle break_length  pitch_type  pitch_type_seq  type_conf zone  \\\n",
       "0         1.8          4.4          FF              FF      0.909    5   \n",
       "1        16.4          4.3          FF              FF      0.909   13   \n",
       "2        -5.0          6.2          FC           FF|FC      0.761    1   \n",
       "3        -9.5          6.2          FC        FF|FC|FC      0.659   14   \n",
       "\n",
       "  spin_dir  spin_rate          sv_id  \n",
       "0  184.549   1674.376  150901_190703  \n",
       "1  199.334   1930.502  150901_190744  \n",
       "2  168.632    961.722  150901_190756  \n",
       "3  158.747   1026.539  150901_190820  \n",
       "\n",
       "[4 rows x 64 columns]"
      ]
     },
     "execution_count": 45,
     "metadata": {},
     "output_type": "execute_result"
    }
   ],
   "source": [
    "# LOAD IN DATA FROM CSV\n",
    "bat = pd.read_csv('edited_atbat_table.csv')\n",
    "pitch = pd.read_csv('edited_pitch_table.csv')\n",
    "bat.head(4)\n",
    "pitch.head(4)"
   ]
  },
  {
   "cell_type": "markdown",
   "metadata": {},
   "source": [
    "### Data Munging"
   ]
  },
  {
   "cell_type": "code",
   "execution_count": 46,
   "metadata": {
    "collapsed": false
   },
   "outputs": [
    {
     "name": "stderr",
     "output_type": "stream",
     "text": [
      "/anaconda/lib/python2.7/site-packages/IPython/kernel/__main__.py:30: SettingWithCopyWarning: \n",
      "A value is trying to be set on a copy of a slice from a DataFrame.\n",
      "Try using .loc[row_indexer,col_indexer] = value instead\n",
      "\n",
      "See the the caveats in the documentation: http://pandas.pydata.org/pandas-docs/stable/indexing.html#indexing-view-versus-copy\n"
     ]
    }
   ],
   "source": [
    "# Create new bases column to signify number of bases attained during PA (similar to SLG)\n",
    "def slugging(i):\n",
    "    if i in ['Single']:\n",
    "        return 1\n",
    "    elif i == 'Double':\n",
    "        return 2\n",
    "    elif i == 'Triple':\n",
    "        return 3    \n",
    "    else:\n",
    "        return 0            \n",
    "bat['SLG'] = bat.event_tx.apply(slugging) \n",
    "\n",
    "# Create new on_base column to signify player's ability to get on base (similar to OBP)\n",
    "nullplay = ['Hit By Pitch','Forceout','Sacrifice Bunt DP','Runner Out','Batter Interference','Catcher Interference','Sac Bunt','Fan interference']\n",
    "out = ['Flyout','Lineout','Groundout','Sac Fly','Strikeout','Grounded Into DP','Fielders Choice Out','Pop Out','Bunt Groundout','Field Error','Triple Play','Bunt Pop Out','Double Play','Strikeout - DP','Fielders Choice','Sac Fly DP','Bunt Lineout']\n",
    "on_base = ['Walk','Single','Double','Triple','Home Run','Intent Walk']\n",
    "bat_perf = bat[~bat.event_tx.isin(nullplay)]\n",
    "\n",
    "def hit_col(i):\n",
    "    if i in on_base:\n",
    "        return 1\n",
    "    elif i in out:\n",
    "        return 0\n",
    "    else:\n",
    "        print 'Missing Field:',i\n",
    "            \n",
    "bat_perf['OBP'] = bat_perf.event_tx.apply(hit_col) \n",
    "\n",
    "# Drop NA Rows in pitch data\n",
    "pitch = pitch[pd.notnull(pitch['pitch_type'])]\n",
    "# Drops rows w/ insignificant pitch types (pitch_out, eephus, intent, etc.)\n",
    "bad_pitches = ['AB','EP','UN','IN']\n",
    "pitch = pitch[~pitch.pitch_type.isin(bad_pitches)]"
   ]
  },
  {
   "cell_type": "code",
   "execution_count": 50,
   "metadata": {
    "collapsed": false
   },
   "outputs": [],
   "source": [
    "# Create aggrgated date column\n",
    "bat_perf['date'] = pd.to_datetime((bat_perf.year*10000+bat_perf.month*100+bat_perf.day).apply(str),format='%Y%m%d')"
   ]
  },
  {
   "cell_type": "code",
   "execution_count": 59,
   "metadata": {
    "collapsed": false
   },
   "outputs": [
    {
     "data": {
      "text/plain": [
       "OBP    0.285834\n",
       "SLG    0.192691\n",
       "dtype: float64"
      ]
     },
     "execution_count": 59,
     "metadata": {},
     "output_type": "execute_result"
    }
   ],
   "source": [
    "batter_list = [112526,120074,121347,116338]\n",
    "lineup = bat_perf[bat_perf['bat_mlbid'].isin(batter_list)]\n",
    "lineup_performance = lineup.groupby('bat_mlbid')[['OBP','SLG']].mean()\n",
    "lineup_performance.mean()"
   ]
  },
  {
   "cell_type": "code",
   "execution_count": 60,
   "metadata": {
    "collapsed": false
   },
   "outputs": [
    {
     "data": {
      "text/plain": [
       "OBP    0.473684\n",
       "SLG    0.403509\n",
       "dtype: float64"
      ]
     },
     "execution_count": 60,
     "metadata": {},
     "output_type": "execute_result"
    }
   ],
   "source": [
    "pitch_id = 592533 \n",
    "pitcher = bat_perf[bat_perf['pit_mlbid'] == pitch_id]\n",
    "pitcher_performance = pitcher.groupby('pit_mlbid')[['OBP','SLG']].mean()\n",
    "pitcher_performance.mean()"
   ]
  }
 ],
 "metadata": {
  "kernelspec": {
   "display_name": "Python 2",
   "language": "python",
   "name": "python2"
  },
  "language_info": {
   "codemirror_mode": {
    "name": "ipython",
    "version": 2
   },
   "file_extension": ".py",
   "mimetype": "text/x-python",
   "name": "python",
   "nbconvert_exporter": "python",
   "pygments_lexer": "ipython2",
   "version": "2.7.10"
  }
 },
 "nbformat": 4,
 "nbformat_minor": 0
}
